{
  "metadata": {
    "kernelspec": {
      "name": "python",
      "display_name": "Python (Pyodide)",
      "language": "python"
    },
    "language_info": {
      "codemirror_mode": {
        "name": "python",
        "version": 3
      },
      "file_extension": ".py",
      "mimetype": "text/x-python",
      "name": "python",
      "nbconvert_exporter": "python",
      "pygments_lexer": "ipython3",
      "version": "3.8"
    }
  },
  "nbformat_minor": 5,
  "nbformat": 4,
  "cells": [
    {
      "cell_type": "markdown",
      "source": "# My Data Science Noteboo\n## Introduction\n\nWelcome to my Data Science Notebook! In this notebook, I will explore various topics and techniques related to data science and share my findings and code examples.\n## Data Science Languages\n\n- Python\n- R\n- SQL\n- Julia\n## Data Science Libraries\n\n- NumPy\n- Pandas\n- Scikit-learn\n- TensorFlow\n- PyTorch\n## Data Science Tools\n\n| Category       | Tools               |\n|----------------|---------------------|\n| Data Analysis  | Pandas, R, SQL      |\n| Machine Learning | Scikit-learn, TensorFlow, PyTorch |\n| Visualization  | Matplotlib, Seaborn, Plotly |\n| Big Data       | Apache Spark, Hadoop, Apache Kafka |\n## Arithmetic Expression Examples\n\nHere are some examples of arithmetic expressions:\n\n- Addition: `2 + 3`\n- Subtraction: `5 - 2`\n- Multiplication: `4 * 6`\n- Division: `10 / 2`\n# Multiply and add numbers\na = 2\nb = 3\nc = a * b + 5\nc\n# Convert minutes to hours\nminutes = 120\nhours = minutes / 60\nhours\n## Objectives\n\n- Learn and explore data science concepts\n- Gain hands-on experience with data science tools and libraries\n- Develop proficiency in data analysis, machine learning, and visualization techniques\n## Author\n\nM.tayyab\n",
      "metadata": {},
      "id": "aaf7c671-9143-44ea-a790-26f124458bc2"
    },
    {
      "cell_type": "code",
      "source": "",
      "metadata": {},
      "execution_count": null,
      "outputs": [],
      "id": "98cefaf2-6ddf-437c-9b89-a44fd7d8f520"
    }
  ]
}